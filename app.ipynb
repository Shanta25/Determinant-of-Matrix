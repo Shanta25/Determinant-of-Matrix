{
  "nbformat": 4,
  "nbformat_minor": 0,
  "metadata": {
    "colab": {
      "provenance": [],
      "authorship_tag": "ABX9TyPUBGjcbgkiQ8b+2+EpnR74",
      "include_colab_link": true
    },
    "kernelspec": {
      "name": "python3",
      "display_name": "Python 3"
    },
    "language_info": {
      "name": "python"
    }
  },
  "cells": [
    {
      "cell_type": "markdown",
      "metadata": {
        "id": "view-in-github",
        "colab_type": "text"
      },
      "source": [
        "<a href=\"https://colab.research.google.com/github/Shanta25/Determinant-of-Matrix/blob/main/app.ipynb\" target=\"_parent\"><img src=\"https://colab.research.google.com/assets/colab-badge.svg\" alt=\"Open In Colab\"/></a>"
      ]
    },
    {
      "cell_type": "code",
      "execution_count": null,
      "metadata": {
        "id": "ufna-9vdSdd1"
      },
      "outputs": [],
      "source": [
        "n = float(input(\"Enter a number:\"))\n",
        "if int(n) == float(n):\n",
        "  if n%2 == 0:\n",
        "    print(\"The number\", n, \"is Even.\")\n",
        "  else:\n",
        "    print(\"The number\", n, \"is Odd.\")\n",
        "else:\n",
        "  print(\"The number\", n, \"is neither odd nor even as it is not a whole number.\")"
      ]
    }
  ]
}